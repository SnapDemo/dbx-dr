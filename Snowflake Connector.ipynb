{
 "cells": [
  {
   "cell_type": "code",
   "execution_count": 0,
   "metadata": {
    "application/vnd.databricks.v1+cell": {
     "cellMetadata": {
      "byteLimit": 2048000,
      "rowLimit": 10000
     },
     "collapsed": true,
     "inputWidgets": {},
     "nuid": "2d5b57e8-8746-4059-8996-0fa82393bd58",
     "showTitle": false,
     "tableResultSettingsMap": {},
     "title": ""
    }
   },
   "outputs": [],
   "source": [
    "pip install snowflake-connector-python"
   ]
  },
  {
   "cell_type": "code",
   "execution_count": 0,
   "metadata": {
    "application/vnd.databricks.v1+cell": {
     "cellMetadata": {
      "byteLimit": 2048000,
      "rowLimit": 10000
     },
     "inputWidgets": {},
     "nuid": "dc228c0b-46a6-4dbb-8706-d9d63f2e9fc3",
     "showTitle": false,
     "tableResultSettingsMap": {},
     "title": ""
    }
   },
   "outputs": [],
   "source": [
    "# Define your Snowflake connection properties\n",
    "sf_options = {\n",
    "    \"sfUrl\": \"HWAJJHS-RZB42902.snowflakecomputing.com\",\n",
    "    \"sfUser\": \"sf_admin\",  # It is best to use Databricks secrets for credentials\n",
    "    \"sfPassword\": \"9qBd9i57z8rVFZj\",\n",
    "    \"passcode\":\"905312\",\n",
    "    \"sfDatabase\": \"rbac_llc\",\n",
    "    \"sfSchema\": \"search\",\n",
    "    \"sfWarehouse\": \"compute_wh\",\n",
    "}\n",
    "\n",
    "# Read data from a Snowflake table into a DataFrame\n",
    "df = (\n",
    "    spark.read.format(\"snowflake\")\n",
    "    .options(**sf_options)\n",
    "    .option(\"dbtable\", \"customer_search_data\")\n",
    "    .load()\n",
    ")\n",
    "\n",
    "# You can now work with the data in Databricks\n",
    "df.write.mode(\"overwrite\").saveAsTable(\"rbac_llc.customer_data.search\")\n",
    "df.show()"
   ]
  },
  {
   "cell_type": "code",
   "execution_count": 0,
   "metadata": {
    "application/vnd.databricks.v1+cell": {
     "cellMetadata": {
      "byteLimit": 2048000,
      "rowLimit": 10000
     },
     "inputWidgets": {},
     "nuid": "0ac4f0cd-4f9d-4e5d-a412-eb5e0df614fa",
     "showTitle": false,
     "tableResultSettingsMap": {},
     "title": ""
    }
   },
   "outputs": [],
   "source": [
    "\n",
    "df = (\n",
    "    spark.read.format(\"snowflake\")\n",
    "    .options(**sf_options)\n",
    "    .option(\"dbtable\", \"orders\")\n",
    "    .load()\n",
    ")\n",
    "\n",
    "spark.sql(\"DROP TABLE IF EXISTS sales.tcph100.orders\")\n",
    "\n",
    "# Write the DataFrame to the table\n",
    "df.write.mode(\"overwrite\").saveAsTable(\"sales.tcph100.orders\")"
   ]
  },
  {
   "cell_type": "code",
   "execution_count": 0,
   "metadata": {
    "application/vnd.databricks.v1+cell": {
     "cellMetadata": {
      "byteLimit": 2048000,
      "rowLimit": 10000
     },
     "inputWidgets": {},
     "nuid": "ee2c10ff-c983-46b1-981d-50377674c889",
     "showTitle": false,
     "tableResultSettingsMap": {},
     "title": ""
    }
   },
   "outputs": [],
   "source": [
    "df = (\n",
    "    spark.read.format(\"snowflake\")\n",
    "    .options(**sf_options)\n",
    "    .option(\"dbtable\", \"region\")\n",
    "    .load()\n",
    ")\n",
    "\n",
    "spark.sql(\"DROP TABLE IF EXISTS sales.tcph100.region\")\n",
    "\n",
    "# Write the DataFrame to the table\n",
    "df.write.mode(\"overwrite\").saveAsTable(\"sales.tcph100.region\")"
   ]
  },
  {
   "cell_type": "code",
   "execution_count": 0,
   "metadata": {
    "application/vnd.databricks.v1+cell": {
     "cellMetadata": {
      "byteLimit": 2048000,
      "rowLimit": 10000
     },
     "inputWidgets": {},
     "nuid": "5939ff79-7653-4fed-8612-e557cb4399dd",
     "showTitle": false,
     "tableResultSettingsMap": {},
     "title": ""
    }
   },
   "outputs": [],
   "source": [
    "df = (\n",
    "    spark.read.format(\"snowflake\")\n",
    "    .options(**sf_options)\n",
    "    .option(\"dbtable\", \"nation\")\n",
    "    .load()\n",
    ")\n",
    "\n",
    "spark.sql(\"DROP TABLE IF EXISTS sales.tcph100.nation\")\n",
    "\n",
    "# Write the DataFrame to the table\n",
    "df.write.mode(\"overwrite\").saveAsTable(\"sales.tcph100.nation\")"
   ]
  },
  {
   "cell_type": "code",
   "execution_count": 0,
   "metadata": {
    "application/vnd.databricks.v1+cell": {
     "cellMetadata": {
      "byteLimit": 2048000,
      "rowLimit": 10000
     },
     "collapsed": true,
     "inputWidgets": {},
     "nuid": "841851a4-b4cf-40a1-9ba6-ff75bfc39945",
     "showTitle": false,
     "tableResultSettingsMap": {},
     "title": ""
    }
   },
   "outputs": [],
   "source": [
    "# Drop the existing table if it exists\n",
    "spark.sql(\"DROP TABLE IF EXISTS sales.tcph100.customer\")\n",
    "\n",
    "# Write the DataFrame to the table\n",
    "df.write.mode(\"overwrite\").saveAsTable(\"sales.tcph100.customer\")"
   ]
  }
 ],
 "metadata": {
  "application/vnd.databricks.v1+notebook": {
   "computePreferences": null,
   "dashboards": [],
   "environmentMetadata": {
    "base_environment": "",
    "environment_version": "2"
   },
   "inputWidgetPreferences": null,
   "language": "python",
   "notebookMetadata": {
    "pythonIndentUnit": 4
   },
   "notebookName": "Snowflake Connector",
   "widgets": {}
  },
  "language_info": {
   "name": "python"
  }
 },
 "nbformat": 4,
 "nbformat_minor": 0
}
